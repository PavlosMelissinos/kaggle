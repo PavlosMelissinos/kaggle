{
 "cells": [
  {
   "cell_type": "code",
   "execution_count": 1,
   "metadata": {},
   "outputs": [],
   "source": [
    "import os\n",
    "import timeit\n",
    "import ipywidgets\n",
    "\n",
    "filename = '../../input/train.csv'\n",
    "event_points_file= '../../src/event_points.txt'"
   ]
  },
  {
   "cell_type": "code",
   "execution_count": 2,
   "metadata": {},
   "outputs": [
    {
     "name": "stdout",
     "output_type": "stream",
     "text": [
      "[5656575, 50085879, 104677357, 138772454, 187641821, 218652631, 245829586, 307838918, 338276288, 375377849, 419368881, 461811624, 495800226, 528777116, 585568145, 621985674, 629145481]\n"
     ]
    }
   ],
   "source": [
    "with open(event_points_file, 'r') as fin:\n",
    "    event_points = [int(line.strip()) for line in fin]\n",
    "    event_points = sorted(event_points)\n",
    "    \n",
    "print(event_points)"
   ]
  },
  {
   "cell_type": "code",
   "execution_count": 3,
   "metadata": {},
   "outputs": [],
   "source": [
    "def log_progress(sequence, every=None, size=None, name='Items'):\n",
    "    from ipywidgets import IntProgress, HTML, VBox\n",
    "    from IPython.display import display\n",
    "\n",
    "    is_iterator = False\n",
    "    if size is None:\n",
    "        try:\n",
    "            size = len(sequence)\n",
    "        except TypeError:\n",
    "            is_iterator = True\n",
    "    if size is not None:\n",
    "        if every is None:\n",
    "            if size <= 200:\n",
    "                every = 1\n",
    "            else:\n",
    "                every = int(size / 200)     # every 0.5%\n",
    "    else:\n",
    "        assert every is not None, 'sequence is iterator, set every'\n",
    "\n",
    "    if is_iterator:\n",
    "        progress = IntProgress(min=0, max=1, value=1)\n",
    "        progress.bar_style = 'info'\n",
    "    else:\n",
    "        progress = IntProgress(min=0, max=size, value=0)\n",
    "    label = HTML()\n",
    "    box = VBox(children=[label, progress])\n",
    "    display(box)\n",
    "\n",
    "    index = 0\n",
    "    try:\n",
    "        for index, record in enumerate(sequence, 1):\n",
    "            if index == 1 or index % every == 0:\n",
    "                if is_iterator:\n",
    "                    label.value = '{name}: {index} / ?'.format(\n",
    "                        name=name,\n",
    "                        index=index\n",
    "                    )\n",
    "                else:\n",
    "                    progress.value = index\n",
    "                    label.value = u'{name}: {index} / {size}'.format(\n",
    "                        name=name,\n",
    "                        index=index,\n",
    "                        size=size\n",
    "                    )\n",
    "            yield record\n",
    "    except:\n",
    "        progress.bar_style = 'danger'\n",
    "        raise\n",
    "    else:\n",
    "        progress.bar_style = 'success'\n",
    "        progress.value = index\n",
    "        label.value = \"{name}: {index}\".format(\n",
    "            name=name,\n",
    "            index=str(index or '?')\n",
    "        )"
   ]
  },
  {
   "cell_type": "code",
   "execution_count": 4,
   "metadata": {},
   "outputs": [
    {
     "data": {
      "application/vnd.jupyter.widget-view+json": {
       "model_id": "763bcc4308cc42e0ab04b8737aa78529",
       "version_major": 2,
       "version_minor": 0
      },
      "text/plain": [
       "VBox(children=(HTML(value=''), IntProgress(value=0, max=5656574)))"
      ]
     },
     "metadata": {},
     "output_type": "display_data"
    },
    {
     "data": {
      "application/vnd.jupyter.widget-view+json": {
       "model_id": "ca1b2331cc084462abc9079504be17bb",
       "version_major": 2,
       "version_minor": 0
      },
      "text/plain": [
       "VBox(children=(HTML(value=''), IntProgress(value=0, max=44429304)))"
      ]
     },
     "metadata": {},
     "output_type": "display_data"
    },
    {
     "data": {
      "application/vnd.jupyter.widget-view+json": {
       "model_id": "8d95d281c68d469c83a4097969b557f8",
       "version_major": 2,
       "version_minor": 0
      },
      "text/plain": [
       "VBox(children=(HTML(value=''), IntProgress(value=0, max=54591478)))"
      ]
     },
     "metadata": {},
     "output_type": "display_data"
    },
    {
     "data": {
      "application/vnd.jupyter.widget-view+json": {
       "model_id": "45beb266611449aa900360e896b06abd",
       "version_major": 2,
       "version_minor": 0
      },
      "text/plain": [
       "VBox(children=(HTML(value=''), IntProgress(value=0, max=34095097)))"
      ]
     },
     "metadata": {},
     "output_type": "display_data"
    },
    {
     "data": {
      "application/vnd.jupyter.widget-view+json": {
       "model_id": "ad313a79593e4984b207784b808baa05",
       "version_major": 2,
       "version_minor": 0
      },
      "text/plain": [
       "VBox(children=(HTML(value=''), IntProgress(value=0, max=48869367)))"
      ]
     },
     "metadata": {},
     "output_type": "display_data"
    },
    {
     "data": {
      "application/vnd.jupyter.widget-view+json": {
       "model_id": "1789e3c17beb414dadb8999bb524cbca",
       "version_major": 2,
       "version_minor": 0
      },
      "text/plain": [
       "VBox(children=(HTML(value=''), IntProgress(value=0, max=31010810)))"
      ]
     },
     "metadata": {},
     "output_type": "display_data"
    },
    {
     "data": {
      "application/vnd.jupyter.widget-view+json": {
       "model_id": "97cc605b40c14daf91198eb62025850d",
       "version_major": 2,
       "version_minor": 0
      },
      "text/plain": [
       "VBox(children=(HTML(value=''), IntProgress(value=0, max=27176955)))"
      ]
     },
     "metadata": {},
     "output_type": "display_data"
    },
    {
     "data": {
      "application/vnd.jupyter.widget-view+json": {
       "model_id": "4f632a7e78c04b7a848f27102dbed806",
       "version_major": 2,
       "version_minor": 0
      },
      "text/plain": [
       "VBox(children=(HTML(value=''), IntProgress(value=0, max=62009332)))"
      ]
     },
     "metadata": {},
     "output_type": "display_data"
    },
    {
     "data": {
      "application/vnd.jupyter.widget-view+json": {
       "model_id": "3c91ca068fcd46d2b95d34c7fdfcb9f9",
       "version_major": 2,
       "version_minor": 0
      },
      "text/plain": [
       "VBox(children=(HTML(value=''), IntProgress(value=0, max=30437370)))"
      ]
     },
     "metadata": {},
     "output_type": "display_data"
    },
    {
     "data": {
      "application/vnd.jupyter.widget-view+json": {
       "model_id": "968475293dc44a56bdd2abbf8cd4bbe1",
       "version_major": 2,
       "version_minor": 0
      },
      "text/plain": [
       "VBox(children=(HTML(value=''), IntProgress(value=0, max=37101561)))"
      ]
     },
     "metadata": {},
     "output_type": "display_data"
    },
    {
     "data": {
      "application/vnd.jupyter.widget-view+json": {
       "model_id": "0162502b9949444e8c54d620684f9901",
       "version_major": 2,
       "version_minor": 0
      },
      "text/plain": [
       "VBox(children=(HTML(value=''), IntProgress(value=0, max=43991032)))"
      ]
     },
     "metadata": {},
     "output_type": "display_data"
    },
    {
     "data": {
      "application/vnd.jupyter.widget-view+json": {
       "model_id": "65e4b63764a24c978f211064d65ea6d0",
       "version_major": 2,
       "version_minor": 0
      },
      "text/plain": [
       "VBox(children=(HTML(value=''), IntProgress(value=0, max=42442743)))"
      ]
     },
     "metadata": {},
     "output_type": "display_data"
    },
    {
     "data": {
      "application/vnd.jupyter.widget-view+json": {
       "model_id": "375465b8ee8740e48a0dacef32aa3aa3",
       "version_major": 2,
       "version_minor": 0
      },
      "text/plain": [
       "VBox(children=(HTML(value=''), IntProgress(value=0, max=33988602)))"
      ]
     },
     "metadata": {},
     "output_type": "display_data"
    },
    {
     "data": {
      "application/vnd.jupyter.widget-view+json": {
       "model_id": "c728391607a6414494f903d5ee86adab",
       "version_major": 2,
       "version_minor": 0
      },
      "text/plain": [
       "VBox(children=(HTML(value=''), IntProgress(value=0, max=32976890)))"
      ]
     },
     "metadata": {},
     "output_type": "display_data"
    },
    {
     "data": {
      "application/vnd.jupyter.widget-view+json": {
       "model_id": "86c115a82f814eaab240968a9e346ed7",
       "version_major": 2,
       "version_minor": 0
      },
      "text/plain": [
       "VBox(children=(HTML(value=''), IntProgress(value=0, max=56791029)))"
      ]
     },
     "metadata": {},
     "output_type": "display_data"
    },
    {
     "data": {
      "application/vnd.jupyter.widget-view+json": {
       "model_id": "4e7df81815314c49aa3c32e058cad576",
       "version_major": 2,
       "version_minor": 0
      },
      "text/plain": [
       "VBox(children=(HTML(value=''), IntProgress(value=0, max=36417529)))"
      ]
     },
     "metadata": {},
     "output_type": "display_data"
    },
    {
     "data": {
      "application/vnd.jupyter.widget-view+json": {
       "model_id": "6503203390ad48d08e7c7112d5e282f7",
       "version_major": 2,
       "version_minor": 0
      },
      "text/plain": [
       "VBox(children=(HTML(value=''), IntProgress(value=0, max=7159807)))"
      ]
     },
     "metadata": {},
     "output_type": "display_data"
    }
   ],
   "source": [
    "def export(input_stream, filename_out, linecount, header=None, show_progress=False):\n",
    "#     try:\n",
    "#         os.remove(filename_out)\n",
    "#     except FileNotFoundError:\n",
    "#         pass\n",
    "#     print(input_stream, filename_out, linecount, header)\n",
    "#     return 0\n",
    "    with open(filename_out, 'w') as fout:\n",
    "        progvar = 0\n",
    "        if header:\n",
    "            fout.write(header)\n",
    "        all_items = range(linecount)\n",
    "        if show_progress:\n",
    "            all_items = log_progress(all_items, every=65432, size=linecount)\n",
    "        for i in all_items:\n",
    "#         for idx, line in log_progress(input_stream, every=100, size=event_points[-1]):\n",
    "            fout.write(next(fin))\n",
    "\n",
    "\n",
    "with open(filename, 'r') as fin:\n",
    "    header = fin.readline()\n",
    "    previous_event_time = 1\n",
    "    for idx, event_time in enumerate(event_points):\n",
    "        filename_out = f'{os.path.splitext(filename)[0]}_{idx:02d}.csv'\n",
    "        segment_length = event_time - previous_event_time\n",
    "        export(fin, filename_out, segment_length, header=header, show_progress=True)\n",
    "        previous_event_time = event_time"
   ]
  },
  {
   "cell_type": "code",
   "execution_count": 15,
   "metadata": {},
   "outputs": [
    {
     "name": "stdout",
     "output_type": "stream",
     "text": [
      "==> ../../input/train_00.csv <==\n",
      "4,0.00079547982295\n",
      "\n",
      "==> ../../input/train_01.csv <==\n",
      "8,0.00069548217471\n",
      "\n",
      "==> ../../input/train_02.csv <==\n",
      "6,0.00079548506392\n",
      "\n",
      "==> ../../input/train_03.csv <==\n",
      "3,0.0010954868681\n",
      "\n",
      "==> ../../input/train_04.csv <==\n",
      "7,0.0005954894541\n",
      "\n",
      "==> ../../input/train_05.csv <==\n",
      "5,0.0010954910954\n",
      "\n",
      "==> ../../input/train_06.csv <==\n",
      "1,0.00049549253299\n",
      "\n",
      "==> ../../input/train_07.csv <==\n",
      "7,0.00069549581485\n",
      "\n",
      "==> ../../input/train_08.csv <==\n",
      "4,0.00019549742592\n",
      "\n",
      "==> ../../input/train_09.csv <==\n",
      "0,0.00049549938876\n",
      "\n",
      "==> ../../input/train_10.csv <==\n",
      "9,0.00019550171692\n",
      "\n",
      "==> ../../input/train_11.csv <==\n",
      "5,9.5503963166e-05\n",
      "\n",
      "==> ../../input/train_12.csv <==\n",
      "1,9.5505761692e-05\n",
      "\n",
      "==> ../../input/train_13.csv <==\n",
      "5,0.00089550750727\n",
      "\n",
      "==> ../../input/train_14.csv <==\n",
      "6,0.00059551051299\n",
      "\n",
      "==> ../../input/train_15.csv <==\n",
      "10,0.0005955124393\n",
      "\n",
      "==> ../../input/train_16.csv <==\n",
      "5,9.7597955148\n"
     ]
    }
   ],
   "source": [
    "import subprocess\n",
    "\n",
    "def head_or_tail(is_head, f, n=1, offset=0, **_):\n",
    "    cmd = ['tail', 'head'][is_head]\n",
    "    command = f'{cmd} -n {n + offset} {f}'\n",
    "    proc = subprocess.Popen(command, stdout=subprocess.PIPE, shell=True, universal_newlines=True)\n",
    "    return [line.strip() for line in proc.stdout]\n",
    "\n",
    "\n",
    "def tail(**kwargs):\n",
    "    return head_or_tail(is_head=False, **kwargs)\n",
    "\n",
    "\n",
    "def head(**kwargs):\n",
    "    return head_or_tail(is_head=True, **kwargs)\n",
    "\n",
    "files = f'{os.path.splitext(filename)[0]}_*'\n",
    "res = tail(f=files)\n",
    "print('\\n'.join(res))"
   ]
  },
  {
   "cell_type": "code",
   "execution_count": 17,
   "metadata": {},
   "outputs": [
    {
     "name": "stdout",
     "output_type": "stream",
     "text": [
      "==> ../../input/train_00.csv <==\n",
      "acoustic_data,time_to_failure\n",
      "12,1.4690999832\n",
      "\n",
      "==> ../../input/train_01.csv <==\n",
      "acoustic_data,time_to_failure\n",
      "4,11.540799987\n",
      "\n",
      "==> ../../input/train_02.csv <==\n",
      "acoustic_data,time_to_failure\n",
      "1,14.18059999\n",
      "\n",
      "==> ../../input/train_03.csv <==\n",
      "acoustic_data,time_to_failure\n",
      "4,8.8566999914\n",
      "\n",
      "==> ../../input/train_04.csv <==\n",
      "acoustic_data,time_to_failure\n",
      "-4,12.693999994\n",
      "\n",
      "==> ../../input/train_05.csv <==\n",
      "acoustic_data,time_to_failure\n",
      "2,8.0554999956\n",
      "\n",
      "==> ../../input/train_06.csv <==\n",
      "acoustic_data,time_to_failure\n",
      "4,7.058999997\n",
      "\n",
      "==> ../../input/train_07.csv <==\n",
      "acoustic_data,time_to_failure\n",
      "2,16.1074\n",
      "\n",
      "==> ../../input/train_08.csv <==\n",
      "acoustic_data,time_to_failure\n",
      "2,7.9056000019\n",
      "\n",
      "==> ../../input/train_09.csv <==\n",
      "acoustic_data,time_to_failure\n",
      "3,9.6371000039\n",
      "\n",
      "==> ../../input/train_10.csv <==\n",
      "acoustic_data,time_to_failure\n",
      "0,11.426400006\n",
      "\n",
      "==> ../../input/train_11.csv <==\n",
      "acoustic_data,time_to_failure\n",
      "-3,11.024200008\n",
      "\n",
      "==> ../../input/train_12.csv <==\n",
      "acoustic_data,time_to_failure\n",
      "3,8.8281000103\n",
      "\n",
      "==> ../../input/train_13.csv <==\n",
      "acoustic_data,time_to_failure\n",
      "2,8.566000012\n",
      "\n",
      "==> ../../input/train_14.csv <==\n",
      "acoustic_data,time_to_failure\n",
      "2,14.751800015\n",
      "\n",
      "==> ../../input/train_15.csv <==\n",
      "acoustic_data,time_to_failure\n",
      "7,9.4595000169\n",
      "\n",
      "==> ../../input/train_16.csv <==\n",
      "acoustic_data,time_to_failure\n",
      "2,11.618600019\n"
     ]
    }
   ],
   "source": [
    "res = head(f=files, n=2)\n",
    "print('\\n'.join(res))"
   ]
  }
 ],
 "metadata": {
  "kernelspec": {
   "display_name": "Python 3",
   "language": "python",
   "name": "python3"
  },
  "language_info": {
   "codemirror_mode": {
    "name": "ipython",
    "version": 3
   },
   "file_extension": ".py",
   "mimetype": "text/x-python",
   "name": "python",
   "nbconvert_exporter": "python",
   "pygments_lexer": "ipython3",
   "version": "3.7.2"
  }
 },
 "nbformat": 4,
 "nbformat_minor": 2
}
