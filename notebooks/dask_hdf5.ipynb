{
 "cells": [
  {
   "cell_type": "code",
   "execution_count": 1,
   "metadata": {},
   "outputs": [
    {
     "name": "stdout",
     "output_type": "stream",
     "text": [
      "['sample_submission.csv', 'test', 'train.csv', 'train_1.csv']\n"
     ]
    }
   ],
   "source": [
    "import numpy as np # linear algebra\n",
    "import pandas as pd # data processing, CSV file I/O (e.g. pd.read_csv)\n",
    "\n",
    "import matplotlib.pyplot as plt\n",
    "%matplotlib inline\n",
    "\n",
    "import seaborn as sns\n",
    "sns.set()\n",
    "\n",
    "from IPython.display import HTML\n",
    "\n",
    "from os import listdir\n",
    "print(listdir(\"../input\"))\n",
    "\n",
    "import warnings\n",
    "warnings.filterwarnings(\"ignore\", category=DeprecationWarning)\n",
    "warnings.filterwarnings(\"ignore\", category=UserWarning)\n",
    "warnings.filterwarnings(\"ignore\", category=FutureWarning)\n",
    "# Any results you write to the current directory are saved as output."
   ]
  },
  {
   "cell_type": "code",
   "execution_count": 12,
   "metadata": {},
   "outputs": [],
   "source": [
    "import dask.dataframe as dd\n",
    "import numpy as np\n",
    "from dask.diagnostics import ProgressBar\n",
    "\n",
    "pbar = ProgressBar()\n",
    "pbar.register()"
   ]
  },
  {
   "cell_type": "code",
   "execution_count": 13,
   "metadata": {},
   "outputs": [
    {
     "name": "stdout",
     "output_type": "stream",
     "text": [
      "[########################################] | 100% Completed |  1.5s\n"
     ]
    },
    {
     "data": {
      "text/html": [
       "<div>\n",
       "<style scoped>\n",
       "    .dataframe tbody tr th:only-of-type {\n",
       "        vertical-align: middle;\n",
       "    }\n",
       "\n",
       "    .dataframe tbody tr th {\n",
       "        vertical-align: top;\n",
       "    }\n",
       "\n",
       "    .dataframe thead th {\n",
       "        text-align: right;\n",
       "    }\n",
       "</style>\n",
       "<table border=\"1\" class=\"dataframe\">\n",
       "  <thead>\n",
       "    <tr style=\"text-align: right;\">\n",
       "      <th></th>\n",
       "      <th>acoustic_data</th>\n",
       "      <th>time_to_failure</th>\n",
       "    </tr>\n",
       "  </thead>\n",
       "  <tbody>\n",
       "    <tr>\n",
       "      <th>0</th>\n",
       "      <td>12</td>\n",
       "      <td>1.4691</td>\n",
       "    </tr>\n",
       "    <tr>\n",
       "      <th>1</th>\n",
       "      <td>6</td>\n",
       "      <td>1.4691</td>\n",
       "    </tr>\n",
       "    <tr>\n",
       "      <th>2</th>\n",
       "      <td>8</td>\n",
       "      <td>1.4691</td>\n",
       "    </tr>\n",
       "    <tr>\n",
       "      <th>3</th>\n",
       "      <td>5</td>\n",
       "      <td>1.4691</td>\n",
       "    </tr>\n",
       "    <tr>\n",
       "      <th>4</th>\n",
       "      <td>8</td>\n",
       "      <td>1.4691</td>\n",
       "    </tr>\n",
       "  </tbody>\n",
       "</table>\n",
       "</div>"
      ],
      "text/plain": [
       "   acoustic_data  time_to_failure\n",
       "0             12           1.4691\n",
       "1              6           1.4691\n",
       "2              8           1.4691\n",
       "3              5           1.4691\n",
       "4              8           1.4691"
      ]
     },
     "execution_count": 13,
     "metadata": {},
     "output_type": "execute_result"
    }
   ],
   "source": [
    "import os\n",
    "data_dir = os.path.abspath(os.path.expanduser('~/data/lanl_earthquake'))\n",
    "train = dd.read_csv(os.path.join(data_dir, 'train.csv'), dtype={'acoustic_data': np.int16, 'time_to_failure': np.float64})\n",
    "train.head(5)"
   ]
  },
  {
   "cell_type": "code",
   "execution_count": 14,
   "metadata": {},
   "outputs": [
    {
     "name": "stdout",
     "output_type": "stream",
     "text": [
      "[########################################] | 100% Completed |  4min 21.2s\n"
     ]
    },
    {
     "data": {
      "text/plain": [
       "acoustic_data      629145480\n",
       "time_to_failure    629145480\n",
       "dtype: int64"
      ]
     },
     "execution_count": 14,
     "metadata": {},
     "output_type": "execute_result"
    }
   ],
   "source": [
    "train.count().compute()"
   ]
  },
  {
   "cell_type": "code",
   "execution_count": 16,
   "metadata": {},
   "outputs": [
    {
     "name": "stdout",
     "output_type": "stream",
     "text": [
      "Dask Series Structure:\n",
      "npartitions=1\n",
      "acoustic_data      int64\n",
      "time_to_failure      ...\n",
      "dtype: int64\n",
      "Dask Name: dataframe-count-agg, 601 tasks\n",
      "<class 'method'>\n"
     ]
    }
   ],
   "source": [
    "print(train.count())\n",
    "print(type(train.count))"
   ]
  },
  {
   "cell_type": "code",
   "execution_count": 19,
   "metadata": {},
   "outputs": [
    {
     "name": "stdout",
     "output_type": "stream",
     "text": [
      "[########################################] | 100% Completed | 17min 46.2s\n",
      "CPU times: user 8min 26s, sys: 1min 18s, total: 9min 44s\n",
      "Wall time: 17min 46s\n"
     ]
    },
    {
     "data": {
      "text/plain": [
       "['/home/jovyan/data/lanl_earthquake/earthquake.h5',\n",
       " '/home/jovyan/data/lanl_earthquake/earthquake.h5',\n",
       " '/home/jovyan/data/lanl_earthquake/earthquake.h5',\n",
       " '/home/jovyan/data/lanl_earthquake/earthquake.h5',\n",
       " '/home/jovyan/data/lanl_earthquake/earthquake.h5',\n",
       " '/home/jovyan/data/lanl_earthquake/earthquake.h5',\n",
       " '/home/jovyan/data/lanl_earthquake/earthquake.h5',\n",
       " '/home/jovyan/data/lanl_earthquake/earthquake.h5',\n",
       " '/home/jovyan/data/lanl_earthquake/earthquake.h5',\n",
       " '/home/jovyan/data/lanl_earthquake/earthquake.h5',\n",
       " '/home/jovyan/data/lanl_earthquake/earthquake.h5',\n",
       " '/home/jovyan/data/lanl_earthquake/earthquake.h5',\n",
       " '/home/jovyan/data/lanl_earthquake/earthquake.h5',\n",
       " '/home/jovyan/data/lanl_earthquake/earthquake.h5',\n",
       " '/home/jovyan/data/lanl_earthquake/earthquake.h5',\n",
       " '/home/jovyan/data/lanl_earthquake/earthquake.h5',\n",
       " '/home/jovyan/data/lanl_earthquake/earthquake.h5',\n",
       " '/home/jovyan/data/lanl_earthquake/earthquake.h5',\n",
       " '/home/jovyan/data/lanl_earthquake/earthquake.h5',\n",
       " '/home/jovyan/data/lanl_earthquake/earthquake.h5',\n",
       " '/home/jovyan/data/lanl_earthquake/earthquake.h5',\n",
       " '/home/jovyan/data/lanl_earthquake/earthquake.h5',\n",
       " '/home/jovyan/data/lanl_earthquake/earthquake.h5',\n",
       " '/home/jovyan/data/lanl_earthquake/earthquake.h5',\n",
       " '/home/jovyan/data/lanl_earthquake/earthquake.h5',\n",
       " '/home/jovyan/data/lanl_earthquake/earthquake.h5',\n",
       " '/home/jovyan/data/lanl_earthquake/earthquake.h5',\n",
       " '/home/jovyan/data/lanl_earthquake/earthquake.h5',\n",
       " '/home/jovyan/data/lanl_earthquake/earthquake.h5',\n",
       " '/home/jovyan/data/lanl_earthquake/earthquake.h5',\n",
       " '/home/jovyan/data/lanl_earthquake/earthquake.h5',\n",
       " '/home/jovyan/data/lanl_earthquake/earthquake.h5',\n",
       " '/home/jovyan/data/lanl_earthquake/earthquake.h5',\n",
       " '/home/jovyan/data/lanl_earthquake/earthquake.h5',\n",
       " '/home/jovyan/data/lanl_earthquake/earthquake.h5',\n",
       " '/home/jovyan/data/lanl_earthquake/earthquake.h5',\n",
       " '/home/jovyan/data/lanl_earthquake/earthquake.h5',\n",
       " '/home/jovyan/data/lanl_earthquake/earthquake.h5',\n",
       " '/home/jovyan/data/lanl_earthquake/earthquake.h5',\n",
       " '/home/jovyan/data/lanl_earthquake/earthquake.h5',\n",
       " '/home/jovyan/data/lanl_earthquake/earthquake.h5',\n",
       " '/home/jovyan/data/lanl_earthquake/earthquake.h5',\n",
       " '/home/jovyan/data/lanl_earthquake/earthquake.h5',\n",
       " '/home/jovyan/data/lanl_earthquake/earthquake.h5',\n",
       " '/home/jovyan/data/lanl_earthquake/earthquake.h5',\n",
       " '/home/jovyan/data/lanl_earthquake/earthquake.h5',\n",
       " '/home/jovyan/data/lanl_earthquake/earthquake.h5',\n",
       " '/home/jovyan/data/lanl_earthquake/earthquake.h5',\n",
       " '/home/jovyan/data/lanl_earthquake/earthquake.h5',\n",
       " '/home/jovyan/data/lanl_earthquake/earthquake.h5',\n",
       " '/home/jovyan/data/lanl_earthquake/earthquake.h5',\n",
       " '/home/jovyan/data/lanl_earthquake/earthquake.h5',\n",
       " '/home/jovyan/data/lanl_earthquake/earthquake.h5',\n",
       " '/home/jovyan/data/lanl_earthquake/earthquake.h5',\n",
       " '/home/jovyan/data/lanl_earthquake/earthquake.h5',\n",
       " '/home/jovyan/data/lanl_earthquake/earthquake.h5',\n",
       " '/home/jovyan/data/lanl_earthquake/earthquake.h5',\n",
       " '/home/jovyan/data/lanl_earthquake/earthquake.h5',\n",
       " '/home/jovyan/data/lanl_earthquake/earthquake.h5',\n",
       " '/home/jovyan/data/lanl_earthquake/earthquake.h5',\n",
       " '/home/jovyan/data/lanl_earthquake/earthquake.h5',\n",
       " '/home/jovyan/data/lanl_earthquake/earthquake.h5',\n",
       " '/home/jovyan/data/lanl_earthquake/earthquake.h5',\n",
       " '/home/jovyan/data/lanl_earthquake/earthquake.h5',\n",
       " '/home/jovyan/data/lanl_earthquake/earthquake.h5',\n",
       " '/home/jovyan/data/lanl_earthquake/earthquake.h5',\n",
       " '/home/jovyan/data/lanl_earthquake/earthquake.h5',\n",
       " '/home/jovyan/data/lanl_earthquake/earthquake.h5',\n",
       " '/home/jovyan/data/lanl_earthquake/earthquake.h5',\n",
       " '/home/jovyan/data/lanl_earthquake/earthquake.h5',\n",
       " '/home/jovyan/data/lanl_earthquake/earthquake.h5',\n",
       " '/home/jovyan/data/lanl_earthquake/earthquake.h5',\n",
       " '/home/jovyan/data/lanl_earthquake/earthquake.h5',\n",
       " '/home/jovyan/data/lanl_earthquake/earthquake.h5',\n",
       " '/home/jovyan/data/lanl_earthquake/earthquake.h5',\n",
       " '/home/jovyan/data/lanl_earthquake/earthquake.h5',\n",
       " '/home/jovyan/data/lanl_earthquake/earthquake.h5',\n",
       " '/home/jovyan/data/lanl_earthquake/earthquake.h5',\n",
       " '/home/jovyan/data/lanl_earthquake/earthquake.h5',\n",
       " '/home/jovyan/data/lanl_earthquake/earthquake.h5',\n",
       " '/home/jovyan/data/lanl_earthquake/earthquake.h5',\n",
       " '/home/jovyan/data/lanl_earthquake/earthquake.h5',\n",
       " '/home/jovyan/data/lanl_earthquake/earthquake.h5',\n",
       " '/home/jovyan/data/lanl_earthquake/earthquake.h5',\n",
       " '/home/jovyan/data/lanl_earthquake/earthquake.h5',\n",
       " '/home/jovyan/data/lanl_earthquake/earthquake.h5',\n",
       " '/home/jovyan/data/lanl_earthquake/earthquake.h5',\n",
       " '/home/jovyan/data/lanl_earthquake/earthquake.h5',\n",
       " '/home/jovyan/data/lanl_earthquake/earthquake.h5',\n",
       " '/home/jovyan/data/lanl_earthquake/earthquake.h5',\n",
       " '/home/jovyan/data/lanl_earthquake/earthquake.h5',\n",
       " '/home/jovyan/data/lanl_earthquake/earthquake.h5',\n",
       " '/home/jovyan/data/lanl_earthquake/earthquake.h5',\n",
       " '/home/jovyan/data/lanl_earthquake/earthquake.h5',\n",
       " '/home/jovyan/data/lanl_earthquake/earthquake.h5',\n",
       " '/home/jovyan/data/lanl_earthquake/earthquake.h5',\n",
       " '/home/jovyan/data/lanl_earthquake/earthquake.h5',\n",
       " '/home/jovyan/data/lanl_earthquake/earthquake.h5',\n",
       " '/home/jovyan/data/lanl_earthquake/earthquake.h5',\n",
       " '/home/jovyan/data/lanl_earthquake/earthquake.h5',\n",
       " '/home/jovyan/data/lanl_earthquake/earthquake.h5',\n",
       " '/home/jovyan/data/lanl_earthquake/earthquake.h5',\n",
       " '/home/jovyan/data/lanl_earthquake/earthquake.h5',\n",
       " '/home/jovyan/data/lanl_earthquake/earthquake.h5',\n",
       " '/home/jovyan/data/lanl_earthquake/earthquake.h5',\n",
       " '/home/jovyan/data/lanl_earthquake/earthquake.h5',\n",
       " '/home/jovyan/data/lanl_earthquake/earthquake.h5',\n",
       " '/home/jovyan/data/lanl_earthquake/earthquake.h5',\n",
       " '/home/jovyan/data/lanl_earthquake/earthquake.h5',\n",
       " '/home/jovyan/data/lanl_earthquake/earthquake.h5',\n",
       " '/home/jovyan/data/lanl_earthquake/earthquake.h5',\n",
       " '/home/jovyan/data/lanl_earthquake/earthquake.h5',\n",
       " '/home/jovyan/data/lanl_earthquake/earthquake.h5',\n",
       " '/home/jovyan/data/lanl_earthquake/earthquake.h5',\n",
       " '/home/jovyan/data/lanl_earthquake/earthquake.h5',\n",
       " '/home/jovyan/data/lanl_earthquake/earthquake.h5',\n",
       " '/home/jovyan/data/lanl_earthquake/earthquake.h5',\n",
       " '/home/jovyan/data/lanl_earthquake/earthquake.h5',\n",
       " '/home/jovyan/data/lanl_earthquake/earthquake.h5',\n",
       " '/home/jovyan/data/lanl_earthquake/earthquake.h5',\n",
       " '/home/jovyan/data/lanl_earthquake/earthquake.h5',\n",
       " '/home/jovyan/data/lanl_earthquake/earthquake.h5',\n",
       " '/home/jovyan/data/lanl_earthquake/earthquake.h5',\n",
       " '/home/jovyan/data/lanl_earthquake/earthquake.h5',\n",
       " '/home/jovyan/data/lanl_earthquake/earthquake.h5',\n",
       " '/home/jovyan/data/lanl_earthquake/earthquake.h5',\n",
       " '/home/jovyan/data/lanl_earthquake/earthquake.h5',\n",
       " '/home/jovyan/data/lanl_earthquake/earthquake.h5',\n",
       " '/home/jovyan/data/lanl_earthquake/earthquake.h5',\n",
       " '/home/jovyan/data/lanl_earthquake/earthquake.h5',\n",
       " '/home/jovyan/data/lanl_earthquake/earthquake.h5',\n",
       " '/home/jovyan/data/lanl_earthquake/earthquake.h5',\n",
       " '/home/jovyan/data/lanl_earthquake/earthquake.h5',\n",
       " '/home/jovyan/data/lanl_earthquake/earthquake.h5',\n",
       " '/home/jovyan/data/lanl_earthquake/earthquake.h5',\n",
       " '/home/jovyan/data/lanl_earthquake/earthquake.h5',\n",
       " '/home/jovyan/data/lanl_earthquake/earthquake.h5',\n",
       " '/home/jovyan/data/lanl_earthquake/earthquake.h5',\n",
       " '/home/jovyan/data/lanl_earthquake/earthquake.h5',\n",
       " '/home/jovyan/data/lanl_earthquake/earthquake.h5',\n",
       " '/home/jovyan/data/lanl_earthquake/earthquake.h5',\n",
       " '/home/jovyan/data/lanl_earthquake/earthquake.h5',\n",
       " '/home/jovyan/data/lanl_earthquake/earthquake.h5',\n",
       " '/home/jovyan/data/lanl_earthquake/earthquake.h5',\n",
       " '/home/jovyan/data/lanl_earthquake/earthquake.h5',\n",
       " '/home/jovyan/data/lanl_earthquake/earthquake.h5',\n",
       " '/home/jovyan/data/lanl_earthquake/earthquake.h5',\n",
       " '/home/jovyan/data/lanl_earthquake/earthquake.h5',\n",
       " '/home/jovyan/data/lanl_earthquake/earthquake.h5',\n",
       " '/home/jovyan/data/lanl_earthquake/earthquake.h5']"
      ]
     },
     "execution_count": 19,
     "metadata": {},
     "output_type": "execute_result"
    }
   ],
   "source": [
    "target = os.path.join(data_dir, 'earthquake.h5')\n",
    "\n",
    "# convert to binary format, takes some time up-front\n",
    "%time train.to_hdf(target, data_dir)"
   ]
  },
  {
   "cell_type": "markdown",
   "metadata": {},
   "source": [
    "For more info check here:\n",
    "\n",
    "https://github.com/dask/dask-tutorial/blob/master/07_dataframe_storage.ipynb\n",
    "\n",
    "https://github.com/dask/dask-tutorial/blob/master/08_machine_learning.ipynb"
   ]
  },
  {
   "cell_type": "code",
   "execution_count": null,
   "metadata": {},
   "outputs": [],
   "source": []
  }
 ],
 "metadata": {
  "kernelspec": {
   "display_name": "Python 3",
   "language": "python",
   "name": "python3"
  },
  "language_info": {
   "codemirror_mode": {
    "name": "ipython",
    "version": 3
   },
   "file_extension": ".py",
   "mimetype": "text/x-python",
   "name": "python",
   "nbconvert_exporter": "python",
   "pygments_lexer": "ipython3",
   "version": "3.6.7"
  }
 },
 "nbformat": 4,
 "nbformat_minor": 2
}
